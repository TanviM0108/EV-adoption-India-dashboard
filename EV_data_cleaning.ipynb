{
  "nbformat": 4,
  "nbformat_minor": 0,
  "metadata": {
    "colab": {
      "provenance": [],
      "authorship_tag": "ABX9TyObJhiWgSvazsR3UrA+Carf",
      "include_colab_link": true
    },
    "kernelspec": {
      "name": "python3",
      "display_name": "Python 3"
    },
    "language_info": {
      "name": "python"
    }
  },
  "cells": [
    {
      "cell_type": "markdown",
      "metadata": {
        "id": "view-in-github",
        "colab_type": "text"
      },
      "source": [
        "<a href=\"https://colab.research.google.com/github/TanviM0108/EV-adoption-India-dashboard/blob/main/EV_data_cleaning.ipynb\" target=\"_parent\"><img src=\"https://colab.research.google.com/assets/colab-badge.svg\" alt=\"Open In Colab\"/></a>"
      ]
    },
    {
      "cell_type": "code",
      "execution_count": 150,
      "metadata": {
        "colab": {
          "base_uri": "https://localhost:8080/"
        },
        "id": "Kic4iL2DEmiT",
        "outputId": "89342283-9387-409a-80ee-da26e3675c0c"
      },
      "outputs": [
        {
          "output_type": "stream",
          "name": "stdout",
          "text": [
            "<class 'pandas.core.frame.DataFrame'>\n",
            "RangeIndex: 96845 entries, 0 to 96844\n",
            "Data columns (total 8 columns):\n",
            " #   Column             Non-Null Count  Dtype  \n",
            "---  ------             --------------  -----  \n",
            " 0   Year               96845 non-null  float64\n",
            " 1   Month_Name         96845 non-null  object \n",
            " 2   Date               96845 non-null  object \n",
            " 3   State              96845 non-null  object \n",
            " 4   Vehicle_Class      96845 non-null  object \n",
            " 5   Vehicle_Category   96845 non-null  object \n",
            " 6   Vehicle_Type       96845 non-null  object \n",
            " 7   EV_Sales_Quantity  96845 non-null  float64\n",
            "dtypes: float64(2), object(6)\n",
            "memory usage: 5.9+ MB\n"
          ]
        }
      ],
      "source": [
        "#Load the data & understand the dataset\n",
        "import pandas as pd\n",
        "\n",
        "ev_df = pd.read_csv('/content/EV_Dataset.csv')\n",
        "ev_df.info()\n",
        "# ev_df.tail()"
      ]
    },
    {
      "cell_type": "code",
      "source": [
        "# Standardize the columns\n",
        "\n",
        "ev_df.columns = ev_df.columns.str.lower().str.strip().str.replace(\" \", \"_\").str.replace(r'[^\\w]', '', regex=True)\n",
        "print(ev_df.columns)"
      ],
      "metadata": {
        "colab": {
          "base_uri": "https://localhost:8080/"
        },
        "id": "ay9q6uZCLtbh",
        "outputId": "2943590f-622a-437e-ca8b-1e077145aec7"
      },
      "execution_count": 151,
      "outputs": [
        {
          "output_type": "stream",
          "name": "stdout",
          "text": [
            "Index(['year', 'month_name', 'date', 'state', 'vehicle_class',\n",
            "       'vehicle_category', 'vehicle_type', 'ev_sales_quantity'],\n",
            "      dtype='object')\n"
          ]
        }
      ]
    },
    {
      "cell_type": "markdown",
      "source": [
        "**Load Other dataset and standardize columns**"
      ],
      "metadata": {
        "id": "pvKucwOTM8V9"
      }
    },
    {
      "cell_type": "code",
      "source": [
        "maker_df = pd.read_csv('/content/EV Maker by Place.csv')\n",
        "maker_df.info()\n",
        "maker_df.columns = maker_df.columns.str.lower().str.strip().str.replace(\" \", \"_\").str.replace(r'[^\\w]', '', regex=True)\n",
        "print(maker_df.columns)"
      ],
      "metadata": {
        "colab": {
          "base_uri": "https://localhost:8080/"
        },
        "id": "IusNgrFcMwpq",
        "outputId": "9b045990-a9f5-45cc-c530-696f6c6ba633"
      },
      "execution_count": 152,
      "outputs": [
        {
          "output_type": "stream",
          "name": "stdout",
          "text": [
            "<class 'pandas.core.frame.DataFrame'>\n",
            "RangeIndex: 62 entries, 0 to 61\n",
            "Data columns (total 3 columns):\n",
            " #   Column    Non-Null Count  Dtype \n",
            "---  ------    --------------  ----- \n",
            " 0   EV Maker  62 non-null     object\n",
            " 1   Place     62 non-null     object\n",
            " 2   State     62 non-null     object\n",
            "dtypes: object(3)\n",
            "memory usage: 1.6+ KB\n",
            "Index(['ev_maker', 'place', 'state'], dtype='object')\n"
          ]
        }
      ]
    },
    {
      "cell_type": "code",
      "source": [
        "charger_df= pd.read_csv('/content/RS_Session_259_AU_2028_B.i.csv')\n",
        "charger_df.info()\n",
        "charger_df.columns = charger_df.columns.str.lower().str.strip().str.replace(\" \", \"_\").str.replace(r'[^\\w]', '', regex=True)\n",
        "print(charger_df.columns)"
      ],
      "metadata": {
        "colab": {
          "base_uri": "https://localhost:8080/"
        },
        "id": "wmFyLj5ZMz9_",
        "outputId": "1761bcb7-e990-485b-a4fb-454b46b2ae27"
      },
      "execution_count": 153,
      "outputs": [
        {
          "output_type": "stream",
          "name": "stdout",
          "text": [
            "<class 'pandas.core.frame.DataFrame'>\n",
            "RangeIndex: 26 entries, 0 to 25\n",
            "Data columns (total 2 columns):\n",
            " #   Column                         Non-Null Count  Dtype \n",
            "---  ------                         --------------  ----- \n",
            " 0   State/UT                       26 non-null     object\n",
            " 1   No. of EV Chargers Sanctioned  26 non-null     int64 \n",
            "dtypes: int64(1), object(1)\n",
            "memory usage: 548.0+ bytes\n",
            "Index(['stateut', 'no_of_ev_chargers_sanctioned'], dtype='object')\n"
          ]
        }
      ]
    },
    {
      "cell_type": "code",
      "source": [
        "#Rename multiple column name in dataset charger_df\n",
        "\n",
        "charger_df.rename(columns={'stateut': 'state',\n",
        "                   'no_of_ev_chargers_sanctioned': 'chargers_sanctioned'}, inplace=True)\n",
        "print(charger_df.columns)"
      ],
      "metadata": {
        "colab": {
          "base_uri": "https://localhost:8080/"
        },
        "id": "F93Lz0FgNE_0",
        "outputId": "ecc2d847-71bc-432f-9645-3de9c54ac2d5"
      },
      "execution_count": 154,
      "outputs": [
        {
          "output_type": "stream",
          "name": "stdout",
          "text": [
            "Index(['state', 'chargers_sanctioned'], dtype='object')\n"
          ]
        }
      ]
    },
    {
      "cell_type": "code",
      "source": [
        "# check missing values\n",
        "\n",
        "print(ev_df.isnull().sum())\n",
        "print(maker_df.isnull().sum())\n",
        "print(charger_df.isnull().sum())"
      ],
      "metadata": {
        "colab": {
          "base_uri": "https://localhost:8080/"
        },
        "id": "Hlktq3yVOjBm",
        "outputId": "cfda6c1f-c2eb-476e-8be3-68e60d35fb1a"
      },
      "execution_count": 155,
      "outputs": [
        {
          "output_type": "stream",
          "name": "stdout",
          "text": [
            "year                 0\n",
            "month_name           0\n",
            "date                 0\n",
            "state                0\n",
            "vehicle_class        0\n",
            "vehicle_category     0\n",
            "vehicle_type         0\n",
            "ev_sales_quantity    0\n",
            "dtype: int64\n",
            "ev_maker    0\n",
            "place       0\n",
            "state       0\n",
            "dtype: int64\n",
            "state                  0\n",
            "chargers_sanctioned    0\n",
            "dtype: int64\n"
          ]
        }
      ]
    },
    {
      "cell_type": "code",
      "source": [
        "# change data type of year column from float to int\n",
        "ev_df['date'] = pd.to_datetime(ev_df['date'], format='%d/%m/%Y')\n",
        "ev_df['year'] = ev_df['year'].astype('Int64')\n",
        "ev_df.info()"
      ],
      "metadata": {
        "colab": {
          "base_uri": "https://localhost:8080/"
        },
        "id": "Yp1eJLgMQ8Po",
        "outputId": "d766a3fc-2adc-4a49-baf3-8d3299613e2b"
      },
      "execution_count": 156,
      "outputs": [
        {
          "output_type": "stream",
          "name": "stdout",
          "text": [
            "<class 'pandas.core.frame.DataFrame'>\n",
            "RangeIndex: 96845 entries, 0 to 96844\n",
            "Data columns (total 8 columns):\n",
            " #   Column             Non-Null Count  Dtype         \n",
            "---  ------             --------------  -----         \n",
            " 0   year               96845 non-null  Int64         \n",
            " 1   month_name         96845 non-null  object        \n",
            " 2   date               96845 non-null  datetime64[ns]\n",
            " 3   state              96845 non-null  object        \n",
            " 4   vehicle_class      96845 non-null  object        \n",
            " 5   vehicle_category   96845 non-null  object        \n",
            " 6   vehicle_type       96845 non-null  object        \n",
            " 7   ev_sales_quantity  96845 non-null  float64       \n",
            "dtypes: Int64(1), datetime64[ns](1), float64(1), object(5)\n",
            "memory usage: 6.0+ MB\n"
          ]
        }
      ]
    },
    {
      "source": [
        "# Check duplicate values\n",
        "ev_df.duplicated().sum()\n",
        "maker_df.duplicated().sum()\n",
        "charger_df.duplicated().sum()"
      ],
      "cell_type": "code",
      "metadata": {
        "colab": {
          "base_uri": "https://localhost:8080/"
        },
        "id": "g-C-YA9Y3QOA",
        "outputId": "84d3368d-228d-4876-aec8-c7b116430f7e"
      },
      "execution_count": 157,
      "outputs": [
        {
          "output_type": "execute_result",
          "data": {
            "text/plain": [
              "np.int64(0)"
            ]
          },
          "metadata": {},
          "execution_count": 157
        }
      ]
    },
    {
      "cell_type": "code",
      "source": [
        "# Save the cleaned data in a csv file\n",
        "\n",
        "ev_df.to_csv('/content/ev_data.csv', index=False)\n",
        "maker_df.to_csv('/content/maker_data.csv', index=False)\n",
        "charger_df.to_csv('/content/charger_data.csv', index=False)"
      ],
      "metadata": {
        "id": "sxIVquZ37RfZ"
      },
      "execution_count": null,
      "outputs": []
    }
  ]
}